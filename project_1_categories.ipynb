{
 "cells": [
  {
   "cell_type": "markdown",
   "metadata": {},
   "source": [
    "Project 1. Ver 1. Slastnykh Alexander.\n"
   ]
  },
  {
   "cell_type": "markdown",
   "metadata": {},
   "source": [
    "Используем домены, дни недели, категории с сайта megaindex. Обучаем нейронную сеть с линейными функциями активации. Есть еще другая версия, где я использую тексты самих  сайтов (10 самых частых слов)"
   ]
  },
  {
   "cell_type": "code",
   "execution_count": 119,
   "metadata": {
    "collapsed": true,
    "deletable": true,
    "editable": true
   },
   "outputs": [],
   "source": [
    "import pandas as pd\n",
    "import json\n",
    "from  numpy import array\n",
    "import numpy as np\n",
    "import re\n",
    "from urllib.parse import urlparse\n",
    "from urllib.parse import unquote\n",
    "from  collections import Counter\n",
    "import requests\n",
    "import datetime"
   ]
  },
  {
   "cell_type": "markdown",
   "metadata": {},
   "source": [
    "Загрузим предварительно выкаченнные категории доменов. "
   ]
  },
  {
   "cell_type": "code",
   "execution_count": 120,
   "metadata": {
    "collapsed": false,
    "deletable": true,
    "editable": true,
    "scrolled": true
   },
   "outputs": [
    {
     "name": "stderr",
     "output_type": "stream",
     "text": [
      "/usr/local/lib/python3.4/dist-packages/ipykernel/__main__.py:1: ParserWarning: Falling back to the 'python' engine because the 'c' engine does not support regex separators (separators > 1 char and different from '\\s+' are interpreted as regex); you can avoid this warning by specifying engine='python'.\n",
      "  if __name__ == '__main__':\n"
     ]
    }
   ],
   "source": [
    "df_cat = pd.read_csv('dom_cat.csv',sep = ' ;')"
   ]
  },
  {
   "cell_type": "code",
   "execution_count": 121,
   "metadata": {
    "collapsed": false,
    "deletable": true,
    "editable": true
   },
   "outputs": [
    {
     "data": {
      "text/html": [
       "<div>\n",
       "<style>\n",
       "    .dataframe thead tr:only-child th {\n",
       "        text-align: right;\n",
       "    }\n",
       "\n",
       "    .dataframe thead th {\n",
       "        text-align: left;\n",
       "    }\n",
       "\n",
       "    .dataframe tbody tr th {\n",
       "        vertical-align: top;\n",
       "    }\n",
       "</style>\n",
       "<table border=\"1\" class=\"dataframe\">\n",
       "  <thead>\n",
       "    <tr style=\"text-align: right;\">\n",
       "      <th></th>\n",
       "      <th>domain</th>\n",
       "      <th>category</th>\n",
       "    </tr>\n",
       "  </thead>\n",
       "  <tbody>\n",
       "    <tr>\n",
       "      <th>0</th>\n",
       "      <td>sotovik.ru</td>\n",
       "      <td>Computers/Mobile/Cellular Computers/Computers/...</td>\n",
       "    </tr>\n",
       "    <tr>\n",
       "      <th>1</th>\n",
       "      <td>news.yandex.ru</td>\n",
       "      <td>Employment/Staff Media/Online_Media Media/News...</td>\n",
       "    </tr>\n",
       "    <tr>\n",
       "      <th>2</th>\n",
       "      <td>zebra-zoya.ru</td>\n",
       "      <td>Business/Office/General Business/Production/Co...</td>\n",
       "    </tr>\n",
       "    <tr>\n",
       "      <th>3</th>\n",
       "      <td>enter.ru</td>\n",
       "      <td>NaN</td>\n",
       "    </tr>\n",
       "    <tr>\n",
       "      <th>4</th>\n",
       "      <td>euroavtoprokat.ru</td>\n",
       "      <td>Rest/Travels/Travel_Agencies</td>\n",
       "    </tr>\n",
       "  </tbody>\n",
       "</table>\n",
       "</div>"
      ],
      "text/plain": [
       "              domain                                           category\n",
       "0         sotovik.ru  Computers/Mobile/Cellular Computers/Computers/...\n",
       "1     news.yandex.ru  Employment/Staff Media/Online_Media Media/News...\n",
       "2      zebra-zoya.ru  Business/Office/General Business/Production/Co...\n",
       "3           enter.ru                                                NaN\n",
       "4  euroavtoprokat.ru                       Rest/Travels/Travel_Agencies"
      ]
     },
     "execution_count": 121,
     "metadata": {},
     "output_type": "execute_result"
    }
   ],
   "source": [
    "df_cat.head()"
   ]
  },
  {
   "cell_type": "markdown",
   "metadata": {},
   "source": [
    "Извлечем данные в обычные питоновские списки для удобства работы"
   ]
  },
  {
   "cell_type": "code",
   "execution_count": 122,
   "metadata": {
    "collapsed": false,
    "deletable": true,
    "editable": true
   },
   "outputs": [],
   "source": [
    "cat_l = list(df_cat.category)\n",
    "dom_l = list(df_cat.domain)"
   ]
  },
  {
   "cell_type": "markdown",
   "metadata": {},
   "source": [
    "Разберемся с пустыми категориями и порно доменами. Так как они часто заблокированы, то мегаиндекс определяет их как юридические сайты :)"
   ]
  },
  {
   "cell_type": "code",
   "execution_count": 196,
   "metadata": {
    "collapsed": false,
    "deletable": true,
    "editable": true
   },
   "outputs": [],
   "source": [
    "descriptions = []\n",
    "domains = []\n",
    "\n",
    "def find_porno(in_str):\n",
    "    porno_words = ['porn','xvideo','xxx','pussy','pron','nudevista','fuck']\n",
    "    for w in porno_words:\n",
    "        if in_str.find(w)>-1:\n",
    "            return  True\n",
    "    return False\n",
    "for i,each in enumerate(cat_l):\n",
    "    if find_porno(str(dom_l[i])):\n",
    "        describe = 'Porno'\n",
    " \n",
    "    else:\n",
    "    \n",
    "    \n",
    "        if str(each) == 'nan':\n",
    "            describe = dom_l[i]\n",
    "        else:\n",
    "            describe = str(each).replace('/','').replace('_','') \n",
    "        \n",
    "        \n",
    "    descriptions.append(describe)\n",
    "    domains.append(dom_l[i])"
   ]
  },
  {
   "cell_type": "code",
   "execution_count": 124,
   "metadata": {
    "collapsed": false,
    "deletable": true,
    "editable": true
   },
   "outputs": [],
   "source": [
    "df_cat['descriptions']=descriptions"
   ]
  },
  {
   "cell_type": "code",
   "execution_count": 125,
   "metadata": {
    "collapsed": false,
    "deletable": true,
    "editable": true
   },
   "outputs": [
    {
     "data": {
      "text/html": [
       "<div>\n",
       "<style>\n",
       "    .dataframe thead tr:only-child th {\n",
       "        text-align: right;\n",
       "    }\n",
       "\n",
       "    .dataframe thead th {\n",
       "        text-align: left;\n",
       "    }\n",
       "\n",
       "    .dataframe tbody tr th {\n",
       "        vertical-align: top;\n",
       "    }\n",
       "</style>\n",
       "<table border=\"1\" class=\"dataframe\">\n",
       "  <thead>\n",
       "    <tr style=\"text-align: right;\">\n",
       "      <th></th>\n",
       "      <th>domain</th>\n",
       "      <th>category</th>\n",
       "      <th>descriptions</th>\n",
       "    </tr>\n",
       "  </thead>\n",
       "  <tbody>\n",
       "    <tr>\n",
       "      <th>0</th>\n",
       "      <td>sotovik.ru</td>\n",
       "      <td>Computers/Mobile/Cellular Computers/Computers/...</td>\n",
       "      <td>ComputersMobileCellular ComputersComputersDocu...</td>\n",
       "    </tr>\n",
       "    <tr>\n",
       "      <th>1</th>\n",
       "      <td>news.yandex.ru</td>\n",
       "      <td>Employment/Staff Media/Online_Media Media/News...</td>\n",
       "      <td>EmploymentStaff MediaOnlineMedia MediaNewsAgen...</td>\n",
       "    </tr>\n",
       "    <tr>\n",
       "      <th>2</th>\n",
       "      <td>zebra-zoya.ru</td>\n",
       "      <td>Business/Office/General Business/Production/Co...</td>\n",
       "      <td>BusinessOfficeGeneral BusinessProductionConsum...</td>\n",
       "    </tr>\n",
       "    <tr>\n",
       "      <th>3</th>\n",
       "      <td>enter.ru</td>\n",
       "      <td>NaN</td>\n",
       "      <td>enter.ru</td>\n",
       "    </tr>\n",
       "    <tr>\n",
       "      <th>4</th>\n",
       "      <td>euroavtoprokat.ru</td>\n",
       "      <td>Rest/Travels/Travel_Agencies</td>\n",
       "      <td>RestTravelsTravelAgencies</td>\n",
       "    </tr>\n",
       "  </tbody>\n",
       "</table>\n",
       "</div>"
      ],
      "text/plain": [
       "              domain                                           category  \\\n",
       "0         sotovik.ru  Computers/Mobile/Cellular Computers/Computers/...   \n",
       "1     news.yandex.ru  Employment/Staff Media/Online_Media Media/News...   \n",
       "2      zebra-zoya.ru  Business/Office/General Business/Production/Co...   \n",
       "3           enter.ru                                                NaN   \n",
       "4  euroavtoprokat.ru                       Rest/Travels/Travel_Agencies   \n",
       "\n",
       "                                        descriptions  \n",
       "0  ComputersMobileCellular ComputersComputersDocu...  \n",
       "1  EmploymentStaff MediaOnlineMedia MediaNewsAgen...  \n",
       "2  BusinessOfficeGeneral BusinessProductionConsum...  \n",
       "3                                           enter.ru  \n",
       "4                          RestTravelsTravelAgencies  "
      ]
     },
     "execution_count": 125,
     "metadata": {},
     "output_type": "execute_result"
    }
   ],
   "source": [
    "df_cat.head()"
   ]
  },
  {
   "cell_type": "markdown",
   "metadata": {},
   "source": [
    "Наши основные исходные данные для работы"
   ]
  },
  {
   "cell_type": "code",
   "execution_count": 126,
   "metadata": {
    "collapsed": true,
    "deletable": true,
    "editable": true
   },
   "outputs": [],
   "source": [
    "df = pd.read_csv('data/gender_age_dataset.txt', sep='\\t')"
   ]
  },
  {
   "cell_type": "code",
   "execution_count": 127,
   "metadata": {
    "collapsed": false,
    "deletable": true,
    "editable": true
   },
   "outputs": [
    {
     "data": {
      "text/html": [
       "<div>\n",
       "<style>\n",
       "    .dataframe thead tr:only-child th {\n",
       "        text-align: right;\n",
       "    }\n",
       "\n",
       "    .dataframe thead th {\n",
       "        text-align: left;\n",
       "    }\n",
       "\n",
       "    .dataframe tbody tr th {\n",
       "        vertical-align: top;\n",
       "    }\n",
       "</style>\n",
       "<table border=\"1\" class=\"dataframe\">\n",
       "  <thead>\n",
       "    <tr style=\"text-align: right;\">\n",
       "      <th></th>\n",
       "      <th>gender</th>\n",
       "      <th>age</th>\n",
       "      <th>uid</th>\n",
       "      <th>user_json</th>\n",
       "    </tr>\n",
       "  </thead>\n",
       "  <tbody>\n",
       "    <tr>\n",
       "      <th>0</th>\n",
       "      <td>F</td>\n",
       "      <td>18-24</td>\n",
       "      <td>d50192e5-c44e-4ae8-ae7a-7cfe67c8b777</td>\n",
       "      <td>{\"visits\": [{\"url\": \"http://zebra-zoya.ru/2000...</td>\n",
       "    </tr>\n",
       "    <tr>\n",
       "      <th>1</th>\n",
       "      <td>M</td>\n",
       "      <td>25-34</td>\n",
       "      <td>d502331d-621e-4721-ada2-5d30b2c3801f</td>\n",
       "      <td>{\"visits\": [{\"url\": \"http://sweetrading.ru/?p=...</td>\n",
       "    </tr>\n",
       "    <tr>\n",
       "      <th>2</th>\n",
       "      <td>F</td>\n",
       "      <td>25-34</td>\n",
       "      <td>d50237ea-747e-48a2-ba46-d08e71dddfdb</td>\n",
       "      <td>{\"visits\": [{\"url\": \"http://ru.oriflame.com/pr...</td>\n",
       "    </tr>\n",
       "    <tr>\n",
       "      <th>3</th>\n",
       "      <td>F</td>\n",
       "      <td>25-34</td>\n",
       "      <td>d502f29f-d57a-46bf-8703-1cb5f8dcdf03</td>\n",
       "      <td>{\"visits\": [{\"url\": \"http://translate-tattoo.r...</td>\n",
       "    </tr>\n",
       "    <tr>\n",
       "      <th>4</th>\n",
       "      <td>M</td>\n",
       "      <td>&gt;=55</td>\n",
       "      <td>d503c3b2-a0c2-4f47-bb27-065058c73008</td>\n",
       "      <td>{\"visits\": [{\"url\": \"https://mail.rambler.ru/#...</td>\n",
       "    </tr>\n",
       "  </tbody>\n",
       "</table>\n",
       "</div>"
      ],
      "text/plain": [
       "  gender    age                                   uid  \\\n",
       "0      F  18-24  d50192e5-c44e-4ae8-ae7a-7cfe67c8b777   \n",
       "1      M  25-34  d502331d-621e-4721-ada2-5d30b2c3801f   \n",
       "2      F  25-34  d50237ea-747e-48a2-ba46-d08e71dddfdb   \n",
       "3      F  25-34  d502f29f-d57a-46bf-8703-1cb5f8dcdf03   \n",
       "4      M   >=55  d503c3b2-a0c2-4f47-bb27-065058c73008   \n",
       "\n",
       "                                           user_json  \n",
       "0  {\"visits\": [{\"url\": \"http://zebra-zoya.ru/2000...  \n",
       "1  {\"visits\": [{\"url\": \"http://sweetrading.ru/?p=...  \n",
       "2  {\"visits\": [{\"url\": \"http://ru.oriflame.com/pr...  \n",
       "3  {\"visits\": [{\"url\": \"http://translate-tattoo.r...  \n",
       "4  {\"visits\": [{\"url\": \"https://mail.rambler.ru/#...  "
      ]
     },
     "execution_count": 127,
     "metadata": {},
     "output_type": "execute_result"
    }
   ],
   "source": [
    "df.head()"
   ]
  },
  {
   "cell_type": "code",
   "execution_count": 128,
   "metadata": {
    "collapsed": true,
    "deletable": true,
    "editable": true
   },
   "outputs": [],
   "source": [
    "def url2domain(url):\n",
    "    try:\n",
    "        url = re.sub('(http(s)*://)+', 'http://', url)\n",
    "        parsed_url = urlparse(unquote(url.strip()))\n",
    "        if parsed_url.scheme not in ['http','https']: \n",
    "            return None\n",
    "        netloc = re.search(\"(?:www\\.)?(.*)\", parsed_url.netloc).group(1)\n",
    "        if netloc is not None: \n",
    "            return str(netloc).strip()\n",
    "        return None\n",
    "    except:\n",
    "        return None\n",
    "    "
   ]
  },
  {
   "cell_type": "code",
   "execution_count": 197,
   "metadata": {
    "collapsed": true
   },
   "outputs": [],
   "source": [
    "def ts2dayhour(timestamp): #преобразуем таймстемп в день недели. Час я решил не использовать, так как он ухудшает результат.\n",
    "    tms = int(timestamp)/1000\n",
    "    return str(datetime.datetime.fromtimestamp(tms).strftime('%A')) # %A %Hh "
   ]
  },
  {
   "cell_type": "code",
   "execution_count": 198,
   "metadata": {
    "collapsed": false
   },
   "outputs": [
    {
     "data": {
      "text/plain": [
       "'Wednesday'"
      ]
     },
     "execution_count": 198,
     "metadata": {},
     "output_type": "execute_result"
    }
   ],
   "source": [
    "ts2dayhour(1426661722000) #пример работы"
   ]
  },
  {
   "cell_type": "code",
   "execution_count": 199,
   "metadata": {
    "collapsed": true
   },
   "outputs": [],
   "source": [
    "def filltimes(visits): #проходит по всем таймстемпам пользователя\n",
    "    timestring=''\n",
    "    for each in visits['visits']:        \n",
    "        timestring+=ts2dayhour(each['timestamp'])+' '\n",
    "    return timestring"
   ]
  },
  {
   "cell_type": "code",
   "execution_count": 200,
   "metadata": {
    "collapsed": true,
    "deletable": true,
    "editable": true
   },
   "outputs": [],
   "source": [
    "def to_counter(visits): #на вход json с посещениями, на выход счетчик доменов. Осталось от первоначальной задумки. \n",
    "    # естественно можно упростить, в конечную версию пошли просто домены, без счетчиков\n",
    "    c = Counter()\n",
    "    for each in visits['visits']:\n",
    "        \n",
    "        c[url2domain(str(each['url']))]+=1\n",
    "        \n",
    "    return c"
   ]
  },
  {
   "cell_type": "code",
   "execution_count": 201,
   "metadata": {
    "collapsed": true,
    "deletable": true,
    "editable": true
   },
   "outputs": [],
   "source": [
    "gender_l = list(df['gender']) #выгружаем данные в питоновские списки, так удобнее чем df работать\n",
    "age_l = list(df['age'])\n",
    "user_json_l = list(df['user_json'])"
   ]
  },
  {
   "cell_type": "code",
   "execution_count": 202,
   "metadata": {
    "collapsed": false,
    "deletable": true,
    "editable": true
   },
   "outputs": [
    {
     "data": {
      "text/plain": [
       "'{\"visits\": [{\"url\": \"http://zebra-zoya.ru/200028-chehol-organayzer-dlja-macbook-11-grid-it.html?utm_campaign=397720794&utm_content=397729344&utm_medium=cpc&utm_source=begun\", \"timestamp\": 1419688144068}, {\"url\": \"http://news.yandex.ru/yandsearch?cl4url=chezasite.com/htc/htc-one-m9-delay-86327.html&lr=213&rpt=story\", \"timestamp\": 1426666298001}, {\"url\": \"http://www.sotovik.ru/news/240283-htc-one-m9-zaderzhivaetsja.html\", \"timestamp\": 1426666298000}, {\"url\": \"http://news.yandex.ru/yandsearch?cl4url=chezasite.com/htc/htc-one-m9-delay-86327.html&lr=213&rpt=story\", \"timestamp\": 1426661722001}, {\"url\": \"http://www.sotovik.ru/news/240283-htc-one-m9-zaderzhivaetsja.html\", \"timestamp\": 1426661722000}]}'"
      ]
     },
     "execution_count": 202,
     "metadata": {},
     "output_type": "execute_result"
    }
   ],
   "source": [
    "#посмотрим как выглядят сырые данные о посещениях\n",
    "user_json_l[0]"
   ]
  },
  {
   "cell_type": "markdown",
   "metadata": {},
   "source": [
    "Далее проводится основная работа по созданию списка, где будут храниться данные для обучения. Это будут категории доменов, день недели посещения, сами домены."
   ]
  },
  {
   "cell_type": "code",
   "execution_count": 163,
   "metadata": {
    "collapsed": false,
    "deletable": true,
    "editable": true
   },
   "outputs": [
    {
     "name": "stdout",
     "output_type": "stream",
     "text": [
      "41138\n",
      "1000 2000 3000 4000 5000 6000 7000 8000 9000 10000 11000 12000 13000 14000 15000 16000 17000 18000 19000 20000 21000 22000 23000 24000 25000 26000 27000 28000 29000 30000 31000 32000 33000 34000 35000 36000 37000 38000 39000 40000 41000 "
     ]
    }
   ],
   "source": [
    "visits_l = [] \n",
    "domain_map = []\n",
    "j=0\n",
    "print(len(user_json_l))\n",
    "for each in user_json_l:\n",
    "    try:\n",
    "        describe = ''\n",
    "        visit = json.loads(each)\n",
    "        visits = to_counter(visit).most_common(50)\n",
    "        describe +=filltimes(visit)\n",
    "        for u in visits:\n",
    "            url_str=u[0].strip()\n",
    "            if url_str not in domains:\n",
    "                describe += url_str+' '\n",
    "            else:\n",
    "                describe +=descriptions[domains.index(url_str)] + ' ' + url_str+' '\n",
    "        j+=1\n",
    "        \n",
    "        describe=' '.join(list(set(describe.split()))) #избавляемся от дублей. через превращение в set и обратно\n",
    "        \n",
    "        visits_l.append(describe)\n",
    "        \n",
    "        if j%1000 == 0:\n",
    "            print(str(j),end=' ')\n",
    "    except:\n",
    "        visits_l.append('')"
   ]
  },
  {
   "cell_type": "code",
   "execution_count": 204,
   "metadata": {
    "collapsed": false,
    "deletable": true,
    "editable": true
   },
   "outputs": [
    {
     "data": {
      "text/plain": [
       "'ComputersMobileCellular zebra-zoya.ru news.yandex.ru Saturday EmploymentStaff MediaNewsAgencies ComputersMobileGeneral sotovik.ru ComputersComputersDocumentation MediaOnlineMedia Wednesday BusinessOfficeGeneral BusinessProductionConsumables BusinessOfficeStationary'"
      ]
     },
     "execution_count": 204,
     "metadata": {},
     "output_type": "execute_result"
    }
   ],
   "source": [
    "visits_l[0] #пример одной записи о пользователи, которая пойдет на обучение"
   ]
  },
  {
   "cell_type": "markdown",
   "metadata": {
    "collapsed": false,
    "deletable": true,
    "editable": true
   },
   "source": [
    "Эту работу я сделал первым, поэтому использовал другую библиотеку. Это keras для нейронных сетей, в ней же есть весь инструментарий для текстовой обработки. По смыслу все тоже самое, что мы учили."
   ]
  },
  {
   "cell_type": "code",
   "execution_count": 165,
   "metadata": {
    "collapsed": false,
    "deletable": true,
    "editable": true
   },
   "outputs": [],
   "source": [
    "from keras.preprocessing.text import Tokenizer "
   ]
  },
  {
   "cell_type": "code",
   "execution_count": 205,
   "metadata": {
    "collapsed": false,
    "deletable": true,
    "editable": true
   },
   "outputs": [],
   "source": [
    "tokenizer = Tokenizer(num_words=30000) #инициируем токенайзер, будем использовать 30 тыс самых частых слов\n",
    "tokenizer.fit_on_texts(visits_l) #даем ему команду составить словарь\n"
   ]
  },
  {
   "cell_type": "code",
   "execution_count": 167,
   "metadata": {
    "collapsed": false,
    "deletable": true,
    "editable": true
   },
   "outputs": [],
   "source": [
    "textSequences = tokenizer.texts_to_sequences(visits_l) #превращаем слова в токены по словарю"
   ]
  },
  {
   "cell_type": "code",
   "execution_count": 168,
   "metadata": {
    "collapsed": false
   },
   "outputs": [
    {
     "data": {
      "text/plain": [
       "[109,\n",
       " 8484,\n",
       " 18203,\n",
       " 1,\n",
       " 24,\n",
       " 14,\n",
       " 1,\n",
       " 9,\n",
       " 54,\n",
       " 26,\n",
       " 208,\n",
       " 4692,\n",
       " 1,\n",
       " 180,\n",
       " 16,\n",
       " 8,\n",
       " 89,\n",
       " 67,\n",
       " 484]"
      ]
     },
     "execution_count": 168,
     "metadata": {},
     "output_type": "execute_result"
    }
   ],
   "source": [
    "textSequences[0] #пример"
   ]
  },
  {
   "cell_type": "markdown",
   "metadata": {},
   "source": [
    "Разворачиваем наши фичи в бинарные вектора."
   ]
  },
  {
   "cell_type": "code",
   "execution_count": 169,
   "metadata": {
    "collapsed": false,
    "deletable": true,
    "editable": true
   },
   "outputs": [],
   "source": [
    "features = tokenizer.sequences_to_matrix(textSequences, mode='binary') # варианты binary tfidf count freq"
   ]
  },
  {
   "cell_type": "code",
   "execution_count": 170,
   "metadata": {
    "collapsed": false,
    "deletable": true,
    "editable": true
   },
   "outputs": [
    {
     "data": {
      "text/plain": [
       "array([ 0.,  1.,  0., ...,  0.,  0.,  0.])"
      ]
     },
     "execution_count": 170,
     "metadata": {},
     "output_type": "execute_result"
    }
   ],
   "source": [
    "features[0] #пример"
   ]
  },
  {
   "cell_type": "markdown",
   "metadata": {},
   "source": [
    "Далее создадим список с целями (labels) для обучения. Попутно выделим в отдельный список super_test_l c фичами для финальной выгрузки (то есть те, у которых не задан пол возвраст)"
   ]
  },
  {
   "cell_type": "code",
   "execution_count": 206,
   "metadata": {
    "collapsed": false,
    "deletable": true,
    "editable": true
   },
   "outputs": [
    {
     "name": "stdout",
     "output_type": "stream",
     "text": [
      "0 [ 0.  0.  0.  0.  0.  1.  0.  0.  0.  0.]\n",
      "2000 [ 0.  0.  0.  0.  0.  0.  1.  0.  0.  0.]\n",
      "4000 [ 0.  1.  0.  0.  0.  0.  0.  0.  0.  0.]\n",
      "6000 [ 1.  0.  0.  0.  0.  0.  0.  0.  0.  0.]\n",
      "8000 [ 0.  1.  0.  0.  0.  0.  0.  0.  0.  0.]\n",
      "10000 [ 0.  1.  0.  0.  0.  0.  0.  0.  0.  0.]\n",
      "12000 [ 0.  1.  0.  0.  0.  0.  0.  0.  0.  0.]\n",
      "14000 [ 0.  0.  1.  0.  0.  0.  0.  0.  0.  0.]\n",
      "16000 [ 0.  1.  0.  0.  0.  0.  0.  0.  0.  0.]\n",
      "18000 [ 0.  1.  0.  0.  0.  0.  0.  0.  0.  0.]\n",
      "20000 [ 0.  0.  1.  0.  0.  0.  0.  0.  0.  0.]\n",
      "22000 [ 0.  0.  0.  0.  0.  0.  1.  0.  0.  0.]\n",
      "24000 [ 0.  0.  0.  1.  0.  0.  0.  0.  0.  0.]\n",
      "26000 [ 0.  0.  0.  0.  0.  0.  0.  1.  0.  0.]\n",
      "28000 [ 0.  0.  0.  0.  0.  0.  1.  0.  0.  0.]\n",
      "30000 [ 0.  0.  0.  1.  0.  0.  0.  0.  0.  0.]\n",
      "32000 [ 0.  1.  0.  0.  0.  0.  0.  0.  0.  0.]\n",
      "34000 [ 0.  1.  0.  0.  0.  0.  0.  0.  0.  0.]\n",
      "36000 [ 0.  0.  1.  0.  0.  0.  0.  0.  0.  0.]\n",
      "38000 [ 0.  1.  0.  0.  0.  0.  0.  0.  0.  0.]\n",
      "40000 [ 0.  1.  0.  0.  0.  0.  0.  0.  0.  0.]\n"
     ]
    }
   ],
   "source": [
    "label_l = [] #цели обучения\n",
    "super_test_l = [] #список фич для финального результата - что будем выгружать в лк\n",
    "\n",
    "s_index=0\n",
    "age_voc = {'18-24':0,'25-34':1,'35-44':2,'45-54':3,'>=55':4}\n",
    "for i,a in enumerate(age_l):\n",
    "    label_vec = np.zeros(10)\n",
    "    if a!='-':\n",
    "        age_shift = age_voc[a]\n",
    "    g = gender_l[i]\n",
    "    if g == 'M': #здесь мы создаем выход из 10 категорий\n",
    "        label_vec[age_shift]=1\n",
    "        label_l.append(label_vec) #1\n",
    "        \n",
    "    elif g == 'F':\n",
    "        label_vec[age_shift+5] =1\n",
    "        label_l.append(label_vec) #-1\n",
    "        \n",
    "    if a=='-' and s_index ==0:\n",
    "        s_index=i\n",
    "    if i%2000 == 0:\n",
    "        print(i,end=' ')\n",
    "        print(label_l[-1])\n",
    "if s_index>0:\n",
    "    super_test_l = features[s_index:]\n",
    "    features = features[:s_index]"
   ]
  },
  {
   "cell_type": "code",
   "execution_count": 172,
   "metadata": {
    "collapsed": false,
    "deletable": true,
    "editable": true
   },
   "outputs": [
    {
     "data": {
      "text/plain": [
       "array([[ 0.,  1.,  0., ...,  0.,  0.,  0.],\n",
       "       [ 0.,  1.,  1., ...,  0.,  0.,  0.],\n",
       "       [ 0.,  1.,  1., ...,  0.,  0.,  0.],\n",
       "       ..., \n",
       "       [ 0.,  0.,  0., ...,  0.,  0.,  0.],\n",
       "       [ 0.,  0.,  0., ...,  0.,  0.,  0.],\n",
       "       [ 0.,  1.,  1., ...,  0.,  0.,  0.]])"
      ]
     },
     "execution_count": 172,
     "metadata": {},
     "output_type": "execute_result"
    }
   ],
   "source": [
    "features[0:100] #пример  матрицы для обучения. это не частоты, это бинарные признаки!"
   ]
  },
  {
   "cell_type": "code",
   "execution_count": 173,
   "metadata": {
    "collapsed": false,
    "deletable": true,
    "editable": true
   },
   "outputs": [],
   "source": [
    "#просто копии\n",
    "train_features = features \n",
    "train_labels=array(label_l)"
   ]
  },
  {
   "cell_type": "code",
   "execution_count": 174,
   "metadata": {
    "collapsed": false,
    "deletable": true,
    "editable": true
   },
   "outputs": [
    {
     "data": {
      "text/plain": [
       "77072"
      ]
     },
     "execution_count": 174,
     "metadata": {},
     "output_type": "execute_result"
    }
   ],
   "source": [
    "len(tokenizer.word_index) #а это общая длина нашего словаря"
   ]
  },
  {
   "cell_type": "code",
   "execution_count": 175,
   "metadata": {
    "collapsed": false,
    "deletable": true,
    "editable": true
   },
   "outputs": [
    {
     "data": {
      "text/plain": [
       "30000"
      ]
     },
     "execution_count": 175,
     "metadata": {},
     "output_type": "execute_result"
    }
   ],
   "source": [
    "len(train_features[0]) #еще раз проверяем размер одного учебного вектора. "
   ]
  },
  {
   "cell_type": "code",
   "execution_count": 176,
   "metadata": {
    "collapsed": true,
    "deletable": true,
    "editable": true
   },
   "outputs": [],
   "source": [
    "import matplotlib.pyplot as plt\n",
    "%matplotlib inline\n",
    "import matplotlib.pyplot as plt\n",
    "plt.style.use('ggplot')\n",
    "from sklearn.metrics import mean_squared_error"
   ]
  },
  {
   "cell_type": "markdown",
   "metadata": {
    "collapsed": true,
    "deletable": true,
    "editable": true
   },
   "source": [
    "Далее пойдет само обучение. Оно выполняется на сетке. 30000 входов. 3 х 10 слоя сделал специально, чтобы показать как это делается. Для этой задачи достаточно сети из  3 скрытых нейронов!"
   ]
  },
  {
   "cell_type": "code",
   "execution_count": 184,
   "metadata": {
    "collapsed": false,
    "deletable": true,
    "editable": true,
    "scrolled": true
   },
   "outputs": [
    {
     "name": "stdout",
     "output_type": "stream",
     "text": [
      "[name: \"/cpu:0\"\n",
      "device_type: \"CPU\"\n",
      "memory_limit: 268435456\n",
      "locality {\n",
      "}\n",
      "incarnation: 9773449083379125478\n",
      "]\n",
      "Собираем модель... 10\n",
      "Train on 32524 samples, validate on 3614 samples\n",
      "Epoch 1/5\n",
      "15s - loss: 2.0412 - acc: 0.2724 - val_loss: 1.9540 - val_acc: 0.3077\n",
      "Epoch 2/5\n",
      "10s - loss: 1.8971 - acc: 0.3178 - val_loss: 1.9206 - val_acc: 0.3094\n",
      "Epoch 3/5\n",
      "10s - loss: 1.8454 - acc: 0.3379 - val_loss: 1.9083 - val_acc: 0.3099\n",
      "Epoch 4/5\n",
      "10s - loss: 1.8069 - acc: 0.3528 - val_loss: 1.9074 - val_acc: 0.3077\n",
      "Epoch 5/5\n",
      "10s - loss: 1.7721 - acc: 0.3655 - val_loss: 1.9063 - val_acc: 0.3149\n",
      "\n",
      "Done!!!\n"
     ]
    }
   ],
   "source": [
    "from tensorflow.python.client import device_lib\n",
    "print(device_lib.list_local_devices())\n",
    "\n",
    "import tensorflow as tf\n",
    "from keras.backend import tensorflow_backend as K\n",
    "\n",
    "with tf.Session(config=tf.ConfigProto(\n",
    "                    intra_op_parallelism_threads=48)) as sess:\n",
    "    K.set_session(sess)\n",
    "   \n",
    "    from keras.models import Sequential\n",
    "    from keras.layers import Dense\n",
    "    from keras.layers import Activation\n",
    "    from keras.layers import Dropout,Conv1D,MaxPooling1D,Embedding,Flatten,LSTM\n",
    "    \n",
    "\n",
    "    neurons = 10\n",
    "    epochs = 5\n",
    "    \n",
    "\n",
    "    print('Собираем модель...',neurons)\n",
    "    total_words = len(tokenizer.word_index)\n",
    "    model = Sequential()\n",
    "    #Добавляем один  слой из neurons нейронов и вход  = длине вектора\n",
    "    model.add(Dense(neurons, input_shape=(len(features[0]),)))\n",
    "    model.add(Activation('linear')) #нормальная функция активации relu ! в этом случае опытным путем выбрал линейную\n",
    "    model.add(Dropout(0.1))\n",
    "\n",
    "    #еще скрытый слой\n",
    "    model.add(Dense(10)) \n",
    "    model.add(Activation('linear'))\n",
    "    #model.add(Dropout(0.1))\n",
    "\n",
    "    #и еще\n",
    "    model.add(Dense(10))\n",
    "    model.add(Activation('linear'))\n",
    "    #model.add(Dropout(0.1))\n",
    "\n",
    "    #а это выход - 10 нейронов по  количеству категорий. софтмакс означает что один из них будет \"ярче\" чем другие\n",
    "    #это и будет искомая категория\n",
    "    model.add(Dense(10))\n",
    "    model.add(Activation('softmax'))\n",
    "    #Варианты оптимизатора: adamax adadelta rmsprop ... - разница есть, выбирал опытным путем!\n",
    "    \n",
    "    model.compile(loss='categorical_crossentropy',\n",
    "                  optimizer='adadelta', \n",
    "                  metrics=['accuracy'])\n",
    "\n",
    "\n",
    "\n",
    "\n",
    "    history = model.fit(train_features, train_labels,\n",
    "                    batch_size=64,\n",
    "                    epochs=epochs,\n",
    "                    verbose=2,\n",
    "                    validation_split=0.1)\n",
    "    #validation_split=0.1 указывает на использование 10% тестовой выборки. отдельно ее создавать не надо. очень удобно\n",
    "\n",
    "    train_predicted_labels = model.predict(train_features) \n",
    "\n",
    "\n",
    "    train_error= mean_squared_error(train_labels,train_predicted_labels)) #средняя ошибка обучения, можно использовать что  то другое\n",
    "    out_predicted_labels = model.predict(array(super_test_l)) #это наш результат\n",
    "    print('MSE',train_error)\n",
    "    print('Done!!!')\n",
    "    "
   ]
  },
  {
   "cell_type": "markdown",
   "metadata": {
    "collapsed": false,
    "deletable": true,
    "editable": true
   },
   "source": [
    "Результат 0.31+ на всей выборке. Это почти тоже самое, что даст чекер из ЛК. Неплохо уменьшить выборку вдвое, тем самым повысив ее качество. А также превратить данные в нужный для чекера вид. Как показала практика - урезание выборки вдвое позволяет поднять результат с 0.31 по всей до 0.36+ для половины."
   ]
  },
  {
   "cell_type": "markdown",
   "metadata": {
    "collapsed": false,
    "deletable": true,
    "editable": true
   },
   "source": [
    "Наши бинарные вектора ответов надо превратить обратно в человеческие буквы и цифры и выгрузить в файл как финальный результат работы. Попутно избавляемся от тех, где сеть не очень уверена и увеличить общий рейтинг решения. В ответ мы получаем значение 10-ти нейронов, у одного из них наибольшее значение. Это и есть наша категория. Я смотрю насколько его значение больше по отношению к другим, то есть  насколько его значение (оно максимальное) больше следующего по степени. Эту разницу я решил назвать альфой. Если она недостаточно большая - значит сеть неуверена. Насколько большая - очень просто, мы хотим максимизировать результат, поэтому просто подбираем альфу так, чтобы в итоговую выборку попало 50% пользователей. "
   ]
  },
  {
   "cell_type": "code",
   "execution_count": 185,
   "metadata": {
    "collapsed": true,
    "deletable": true,
    "editable": true
   },
   "outputs": [],
   "source": [
    "def num_to_cat(in_list,alfa): # на вход получает вектор из десятка цифр. там где большая там категория. если разнца достато\n",
    "    pos = list(in_list).index(max(in_list)) \n",
    "    if max(in_list)-sorted(in_list)[-2]>alfa: # разница определяется альфой\n",
    "        cat_voc = {0:'M 18-24',\n",
    "                    1:'M 25-34',\n",
    "                    2:'M 35-44',\n",
    "                    3:'M 45-54',\n",
    "                    4:'M >=55',\n",
    "                    5:'F 18-24',\n",
    "                    6:'F 25-34',\n",
    "                    7:'F 35-44',\n",
    "                    8:'F 45-54',\n",
    "                    9:'F >=55'}\n",
    "        return cat_voc[pos]\n",
    "    else:\n",
    "        return '- -'"
   ]
  },
  {
   "cell_type": "code",
   "execution_count": 189,
   "metadata": {
    "collapsed": false,
    "deletable": true,
    "editable": true
   },
   "outputs": [
    {
     "name": "stdout",
     "output_type": "stream",
     "text": [
      "0.5012 доля пользователей с определенным полом и возрастом\n"
     ]
    }
   ],
   "source": [
    "\n",
    "alfa = 0.0745 #альфу подбираю руками. это надо делать автоматом, но было влом писать.\n",
    "\n",
    "out_g_l = [] #out gengeder list\n",
    "out_a_l = [] #out agelist\n",
    "for i,each in enumerate(out_predicted_labels): #перебираем  все предсказанные лейблы\n",
    "    if sum([1 for x in super_test_l[i] if x>0])>4: #здесь мы пытаемся убрать тех у кого слишком мало данных\n",
    "        g,a = num_to_cat(each,alfa).split()\n",
    "    else:\n",
    "        g=a='-'\n",
    "    out_g_l.append(g)\n",
    "    out_a_l.append(a)\n",
    "print(sum([1 for x in out_g_l if x!='-'])/len(out_g_l),'доля пользователей с определенным полом и возрастом')"
   ]
  },
  {
   "cell_type": "code",
   "execution_count": 190,
   "metadata": {
    "collapsed": false,
    "deletable": true,
    "editable": true
   },
   "outputs": [
    {
     "data": {
      "text/plain": [
       "5000"
      ]
     },
     "execution_count": 190,
     "metadata": {},
     "output_type": "execute_result"
    }
   ],
   "source": [
    "len(out_g_l) #проверим что ничего не перепутали с результатом."
   ]
  },
  {
   "cell_type": "markdown",
   "metadata": {},
   "source": [
    "Соберем df на выгрузку в файл ответа"
   ]
  },
  {
   "cell_type": "code",
   "execution_count": 192,
   "metadata": {
    "collapsed": false,
    "deletable": true,
    "editable": true
   },
   "outputs": [
    {
     "name": "stderr",
     "output_type": "stream",
     "text": [
      "/usr/local/lib/python3.4/dist-packages/ipykernel/__main__.py:4: SettingWithCopyWarning: \n",
      "A value is trying to be set on a copy of a slice from a DataFrame.\n",
      "Try using .loc[row_indexer,col_indexer] = value instead\n",
      "\n",
      "See the caveats in the documentation: http://pandas.pydata.org/pandas-docs/stable/indexing.html#indexing-view-versus-copy\n",
      "/usr/local/lib/python3.4/dist-packages/ipykernel/__main__.py:5: SettingWithCopyWarning: \n",
      "A value is trying to be set on a copy of a slice from a DataFrame.\n",
      "Try using .loc[row_indexer,col_indexer] = value instead\n",
      "\n",
      "See the caveats in the documentation: http://pandas.pydata.org/pandas-docs/stable/indexing.html#indexing-view-versus-copy\n"
     ]
    }
   ],
   "source": [
    "df2=df[df.gender=='-']\n",
    "del df2['age']\n",
    "del df2['gender']\n",
    "del df2['user_json']\n",
    "df2['gender']= out_g_l\n",
    "df2['age'] = out_a_l"
   ]
  },
  {
   "cell_type": "code",
   "execution_count": 193,
   "metadata": {
    "collapsed": false,
    "deletable": true,
    "editable": true
   },
   "outputs": [
    {
     "data": {
      "text/plain": [
       "5000"
      ]
     },
     "execution_count": 193,
     "metadata": {},
     "output_type": "execute_result"
    }
   ],
   "source": [
    "df2=df2.sort_values('uid')\n",
    "len(df2)"
   ]
  },
  {
   "cell_type": "code",
   "execution_count": 194,
   "metadata": {
    "collapsed": false
   },
   "outputs": [
    {
     "data": {
      "text/html": [
       "<div>\n",
       "<style>\n",
       "    .dataframe thead tr:only-child th {\n",
       "        text-align: right;\n",
       "    }\n",
       "\n",
       "    .dataframe thead th {\n",
       "        text-align: left;\n",
       "    }\n",
       "\n",
       "    .dataframe tbody tr th {\n",
       "        vertical-align: top;\n",
       "    }\n",
       "</style>\n",
       "<table border=\"1\" class=\"dataframe\">\n",
       "  <thead>\n",
       "    <tr style=\"text-align: right;\">\n",
       "      <th></th>\n",
       "      <th>uid</th>\n",
       "      <th>gender</th>\n",
       "      <th>age</th>\n",
       "    </tr>\n",
       "  </thead>\n",
       "  <tbody>\n",
       "    <tr>\n",
       "      <th>37813</th>\n",
       "      <td>0000e7ca-32e6-4bef-bdca-e21c025071ff</td>\n",
       "      <td>F</td>\n",
       "      <td>25-34</td>\n",
       "    </tr>\n",
       "    <tr>\n",
       "      <th>37814</th>\n",
       "      <td>0000f3cf-6e9a-4eab-92f4-cefdad108c83</td>\n",
       "      <td>M</td>\n",
       "      <td>25-34</td>\n",
       "    </tr>\n",
       "    <tr>\n",
       "      <th>37815</th>\n",
       "      <td>000381a6-0400-40f8-98c0-93a6c0852d2d</td>\n",
       "      <td>-</td>\n",
       "      <td>-</td>\n",
       "    </tr>\n",
       "    <tr>\n",
       "      <th>37816</th>\n",
       "      <td>00062d89-a3ba-40dd-9a25-212c9f429133</td>\n",
       "      <td>-</td>\n",
       "      <td>-</td>\n",
       "    </tr>\n",
       "    <tr>\n",
       "      <th>37817</th>\n",
       "      <td>0009233e-a0c2-438e-ac36-bd3e1b7dad1e</td>\n",
       "      <td>M</td>\n",
       "      <td>25-34</td>\n",
       "    </tr>\n",
       "  </tbody>\n",
       "</table>\n",
       "</div>"
      ],
      "text/plain": [
       "                                        uid gender    age\n",
       "37813  0000e7ca-32e6-4bef-bdca-e21c025071ff      F  25-34\n",
       "37814  0000f3cf-6e9a-4eab-92f4-cefdad108c83      M  25-34\n",
       "37815  000381a6-0400-40f8-98c0-93a6c0852d2d      -      -\n",
       "37816  00062d89-a3ba-40dd-9a25-212c9f429133      -      -\n",
       "37817  0009233e-a0c2-438e-ac36-bd3e1b7dad1e      M  25-34"
      ]
     },
     "execution_count": 194,
     "metadata": {},
     "output_type": "execute_result"
    }
   ],
   "source": [
    "df2.head() #результат"
   ]
  },
  {
   "cell_type": "code",
   "execution_count": 195,
   "metadata": {
    "collapsed": true,
    "deletable": true,
    "editable": true
   },
   "outputs": [],
   "source": [
    "df2.to_csv('project01_gender-age.csv',index=False,sep='\\t')\n"
   ]
  },
  {
   "cell_type": "markdown",
   "metadata": {
    "collapsed": false,
    "deletable": true,
    "editable": true
   },
   "source": [
    "time: 2017-08-11 14:08\n",
    "correctly predicted users / total number of users: 0.184\n",
    "part of users with predicted gender + age: 0.5012\n",
    "correctly predicted users / number of predicted users: 0.367118914605\n",
    "resulting csv is readable and contains all necessary uids: True\n",
    "file project01_gender-age.csv exists in your dir: True"
   ]
  },
  {
   "cell_type": "code",
   "execution_count": 310,
   "metadata": {
    "collapsed": true,
    "deletable": true,
    "editable": true
   },
   "outputs": [],
   "source": []
  },
  {
   "cell_type": "code",
   "execution_count": null,
   "metadata": {
    "collapsed": false,
    "deletable": true,
    "editable": true
   },
   "outputs": [],
   "source": [
    "\n"
   ]
  },
  {
   "cell_type": "code",
   "execution_count": null,
   "metadata": {
    "collapsed": true,
    "deletable": true,
    "editable": true
   },
   "outputs": [],
   "source": []
  },
  {
   "cell_type": "code",
   "execution_count": null,
   "metadata": {
    "collapsed": false,
    "deletable": true,
    "editable": true
   },
   "outputs": [],
   "source": []
  },
  {
   "cell_type": "code",
   "execution_count": null,
   "metadata": {
    "collapsed": false
   },
   "outputs": [],
   "source": []
  },
  {
   "cell_type": "code",
   "execution_count": null,
   "metadata": {
    "collapsed": false
   },
   "outputs": [],
   "source": []
  },
  {
   "cell_type": "code",
   "execution_count": null,
   "metadata": {
    "collapsed": true
   },
   "outputs": [],
   "source": []
  },
  {
   "cell_type": "code",
   "execution_count": null,
   "metadata": {
    "collapsed": false
   },
   "outputs": [],
   "source": []
  },
  {
   "cell_type": "code",
   "execution_count": null,
   "metadata": {
    "collapsed": false
   },
   "outputs": [],
   "source": []
  },
  {
   "cell_type": "code",
   "execution_count": null,
   "metadata": {
    "collapsed": false
   },
   "outputs": [],
   "source": [
    "\n"
   ]
  },
  {
   "cell_type": "code",
   "execution_count": null,
   "metadata": {
    "collapsed": false
   },
   "outputs": [],
   "source": []
  },
  {
   "cell_type": "code",
   "execution_count": null,
   "metadata": {
    "collapsed": false
   },
   "outputs": [],
   "source": []
  },
  {
   "cell_type": "code",
   "execution_count": null,
   "metadata": {
    "collapsed": true
   },
   "outputs": [],
   "source": []
  },
  {
   "cell_type": "code",
   "execution_count": null,
   "metadata": {
    "collapsed": true
   },
   "outputs": [],
   "source": []
  }
 ],
 "metadata": {
  "kernelspec": {
   "display_name": "Python 3",
   "language": "python",
   "name": "python3"
  },
  "language_info": {
   "codemirror_mode": {
    "name": "ipython",
    "version": 3
   },
   "file_extension": ".py",
   "mimetype": "text/x-python",
   "name": "python",
   "nbconvert_exporter": "python",
   "pygments_lexer": "ipython3",
   "version": "3.4.3"
  }
 },
 "nbformat": 4,
 "nbformat_minor": 2
}
